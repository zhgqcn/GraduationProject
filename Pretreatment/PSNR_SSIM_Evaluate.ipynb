{
 "cells": [
  {
   "cell_type": "code",
   "execution_count": 16,
   "metadata": {
    "collapsed": false
   },
   "outputs": [],
   "source": [
    "import os\n",
    "import numpy as np\n",
    "import math\n",
    "import cv2\n",
    "import time"
   ]
  },
  {
   "cell_type": "code",
   "execution_count": 17,
   "metadata": {
    "collapsed": true
   },
   "outputs": [],
   "source": [
    "def psnr(img1, img2):\n",
    "    mse = np.mean((img1/1. - img2/1.) ** 2 )\n",
    "    if mse < 1.0e-10:\n",
    "        return 100*1.0\n",
    "    return 10 * math.log10(255.0*255.0/mse)"
   ]
  },
  {
   "cell_type": "code",
   "execution_count": 18,
   "metadata": {
    "collapsed": true
   },
   "outputs": [],
   "source": [
    " def mse(img1,img2):\n",
    "    mse = np.mean((img1/1. - img2/1.) ** 2 )\n",
    "    return mse"
   ]
  },
  {
   "cell_type": "code",
   "execution_count": 19,
   "metadata": {
    "collapsed": true
   },
   "outputs": [],
   "source": [
    " def ssim(y_true , y_pred):\n",
    "    u_true = np.mean(y_true)\n",
    "    u_pred = np.mean(y_pred)\n",
    "    var_true = np.var(y_true)\n",
    "    var_pred = np.var(y_pred)\n",
    "    std_true = np.sqrt(var_true)\n",
    "    std_pred = np.sqrt(var_pred)\n",
    "    c1 = np.square(0.01*7)\n",
    "    c2 = np.square(0.03*7)\n",
    "    ssim = (2 * u_true * u_pred + c1) * (2 * std_pred * std_true + c2)\n",
    "    denom = (u_true ** 2 + u_pred ** 2 + c1) * (var_pred + var_true + c2)\n",
    "    return ssim / denom"
   ]
  },
  {
   "cell_type": "code",
   "execution_count": 20,
   "metadata": {
    "collapsed": true
   },
   "outputs": [],
   "source": [
    "path1 = 'C:/Users/Zheng/Desktop/SR-Note/img_005_SRF_x2.0_SR.tif'  #指定输出结果文件夹\n",
    "path2 = 'C:/Users/Zheng/Desktop/SR-Note/Original_1024.tif'                #指定原图文件夹"
   ]
  },
  {
   "cell_type": "code",
   "execution_count": 22,
   "metadata": {
    "collapsed": false,
    "scrolled": true
   },
   "outputs": [
    {
     "name": "stdout",
     "output_type": "stream",
     "text": [
      "PSNR: 23.62210994470502\n",
      "SSIM: 0.8388434574236953\n",
      "MSE: 282.4030392964681\n"
     ]
    }
   ],
   "source": [
    "img_a = cv2.imread(path1)\n",
    "img_b = cv2.imread(path2)\n",
    "psnr_num = psnr(img_a, img_b)\n",
    "ssim_num = ssim(img_a, img_b)\n",
    "mse_num = mse(img_a,img_b)\n",
    "\n",
    "print(\"PSNR:\",psnr_num)\n",
    "print(\"SSIM:\",ssim_num)\n",
    "print(\"MSE:\",mse_num)"
   ]
  },
  {
   "cell_type": "code",
   "execution_count": null,
   "metadata": {
    "collapsed": true
   },
   "outputs": [],
   "source": []
  }
 ],
 "metadata": {
  "anaconda-cloud": {},
  "kernelspec": {
   "display_name": "Python [default]",
   "language": "python",
   "name": "python3"
  },
  "language_info": {
   "codemirror_mode": {
    "name": "ipython",
    "version": 3
   },
   "file_extension": ".py",
   "mimetype": "text/x-python",
   "name": "python",
   "nbconvert_exporter": "python",
   "pygments_lexer": "ipython3",
   "version": "3.5.6"
  }
 },
 "nbformat": 4,
 "nbformat_minor": 1
}
